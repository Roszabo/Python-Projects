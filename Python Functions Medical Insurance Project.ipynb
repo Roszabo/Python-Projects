{
 "cells": [
  {
   "cell_type": "markdown",
   "metadata": {},
   "source": [
    "# Python Functions: Medical Insurance Project"
   ]
  },
  {
   "cell_type": "markdown",
   "metadata": {},
   "source": [
    "You are curious about how certain factors such as age, sex, BMI, number of children, and smoking status contribute to medical insurance costs.\n",
    "\n",
    "You will apply your new knowledge of Python functions to write a useful function that calculates medical insurance costs.\n",
    "\n",
    "Let’s get started!"
   ]
  },
  {
   "cell_type": "markdown",
   "metadata": {},
   "source": [
    "# 1. Creating a function\n",
    "\n",
    "\n",
    "- First, take a look at the code in script.py.\n",
    "\n",
    "- In this code, we estimate the medical insurance costs for two individuals, Maria and Omar, based on five variables:\n",
    "\n",
    "  - age: age of the individual in years\n",
    "  - sex: 0 for female, 1 for male\n",
    "  - bmi: individual’s body mass index\n",
    "  - num_of_children: number of children the individual has\n",
    "  - smoker: 0 for a non-smoker, 1 for a smoker\n",
    "\n",
    "These variables are used in the following formula to estimate an individual’s insurance cost (in USD):\n",
    "\n",
    "insurance_cost=250∗age−128∗sex+370∗bmi+425∗num_of_children+24000∗smoker−12500"
   ]
  },
  {
   "cell_type": "code",
   "execution_count": 1,
   "metadata": {},
   "outputs": [
    {
     "name": "stdout",
     "output_type": "stream",
     "text": [
      "5469.0\n"
     ]
    }
   ],
   "source": [
    "# Initial variables for Maria \n",
    "age = 28\n",
    "sex = 0  \n",
    "bmi = 26.2\n",
    "num_of_children = 3\n",
    "smoker = 0\n",
    "\n",
    "insurance_cost = 250*age - 128*sex + 370*bmi + 425*num_of_children + 24000*smoker - 12500\n",
    "\n",
    "print(insurance_cost)"
   ]
  },
  {
   "cell_type": "code",
   "execution_count": 2,
   "metadata": {},
   "outputs": [
    {
     "name": "stdout",
     "output_type": "stream",
     "text": [
      "28336.0\n"
     ]
    }
   ],
   "source": [
    "# Initial variables for Omar\n",
    "age = 35\n",
    "sex = 1 \n",
    "bmi = 22.2\n",
    "num_of_children = 0\n",
    "smoker = 1\n",
    "\n",
    "insurance_cost = 250*age - 128*sex + 370*bmi + 425*num_of_children + 24000*smoker - 12500\n",
    "print(insurance_cost)"
   ]
  },
  {
   "cell_type": "markdown",
   "metadata": {},
   "source": [
    "# 2.\n",
    "\n",
    "- The code used to estimate insurance costs for Maria and Omar looks quite similar – in both cases we calculate the insurance cost using the same formula and then print the output.\n",
    "\n",
    "- This code is a great candidate for a function because it involves repeating almost identical commands in multiple places.\n",
    "\n",
    "- Let’s start by defining a function called calculate_insurance_cost() on line 2. For now, your function should not have any parameters or output."
   ]
  },
  {
   "cell_type": "markdown",
   "metadata": {},
   "source": [
    "# 3.\n",
    "\n",
    "- Let’s outline the behavior we want our function to have. Inside of calculate_insurance_cost(), do the following:\n",
    "\n",
    "- Create a variable called estimated_cost. For now, set this variable equal to a value of 1000. You’ll add the full formula in the next step.\n",
    "- Add a print statement that prints estimated_cost. You should output a message similar to: \"The estimated insurance cost for this person is xxx dollars.\"\n",
    "- Return estimated_cost"
   ]
  },
  {
   "cell_type": "code",
   "execution_count": 9,
   "metadata": {},
   "outputs": [],
   "source": [
    " def calculate_insurance_cost():\n",
    "    estimated_cost = 1000\n",
    "    print(\"The estimated insurance cost for this person is \" + str(estimated_cost) + \" dollars.\")\n",
    "    return estimated_cost"
   ]
  },
  {
   "cell_type": "markdown",
   "metadata": {},
   "source": [
    "# 4. Adding parameters to a function\n",
    "\n",
    "Nice job – you’ve created a simple Python function that we’ll use to estimate medical insurance costs.\n",
    "\n",
    "However, the function currently returns a value of 1000. We want it to return our insurance cost formula instead.\n",
    "\n",
    "Modify the function definition so that it contains five parameters:\n",
    "\n",
    "- age\n",
    "- sex\n",
    "- bmi\n",
    "- num_of_children\n",
    "- smoker"
   ]
  },
  {
   "cell_type": "code",
   "execution_count": 10,
   "metadata": {},
   "outputs": [],
   "source": [
    "def calculate_insurance_cost(age, sex, bmi, num_of_children, smoker):\n",
    "    estimated_cost = 1000\n",
    "    print(\"The estimated insurance cost for this person is \" + str(estimated_cost) + \" dollars.\")\n",
    "    return estimated_cost"
   ]
  },
  {
   "cell_type": "markdown",
   "metadata": {},
   "source": [
    "# 5.\n",
    "- Now that we have set up the function to take inputs for each of the values needed in the insurance formula, we can make use of them inside of our function.\n",
    "\n",
    "- In calculate_insurance_cost(), change the value of estimated_cost from 1000 to our formula for insurance cost.\n",
    "\n",
    "- Remember that the formula for insurance cost is:\n",
    "\n",
    "250*age - 128*sex + 370*bmi + 425*num_of_children + 24000*smoker - 12500"
   ]
  },
  {
   "cell_type": "code",
   "execution_count": 11,
   "metadata": {},
   "outputs": [],
   "source": [
    "def calculate_insurance_cost(age, sex, bmi, num_of_children, smoker):\n",
    "    estimated_cost = 250*age - 128*sex + 370*bmi + 425*num_of_children + 24000*smoker - 12500\n",
    "    print(\"The estimated insurance cost for this person is \" + str(estimated_cost) + \" dollars.\")\n",
    "    return estimated_cost"
   ]
  },
  {
   "cell_type": "markdown",
   "metadata": {},
   "source": [
    "# 6. Calling a function\n",
    "\n",
    "- The function is now properly set up to calculate an individual’s medical insurance costs based on the five variables passed into it. Let’s test this out!\n",
    "\n",
    "- Go to the section of code that estimates Maria’s insurance cost.\n",
    "\n",
    "- Rename insurance_cost as maria_insurance_cost and set it equal to calculate_insurance_cost() with the appropriate values for Maria as arguments."
   ]
  },
  {
   "cell_type": "code",
   "execution_count": 12,
   "metadata": {},
   "outputs": [
    {
     "name": "stdout",
     "output_type": "stream",
     "text": [
      "The estimated insurance cost for this person is 5469.0 dollars.\n"
     ]
    }
   ],
   "source": [
    "# Stage 2 variables for Maria \n",
    " \n",
    "age = 28\n",
    "sex = 0  \n",
    "bmi = 26.2\n",
    "num_of_children = 3\n",
    "smoker = 0\n",
    "\n",
    "#insurance_cost = 250*age - 128*sex + 370*bmi + 425*num_of_children + 24000*smoker - 12500\n",
    "\n",
    "#print(insurance_cost)\n",
    "\n",
    "maria_insurance_cost = calculate_insurance_cost(age = 28, sex = 0, bmi = 26.2, num_of_children = 3, smoker = 0)"
   ]
  },
  {
   "cell_type": "markdown",
   "metadata": {},
   "source": [
    "# 7.\n",
    "- Now, remove the print statement for Maria since our function will take care of printing the estimated cost for us.\n",
    "\n",
    "- Additionally, remove the five lines of code defining the initial variables for Maria, as we are now passing in these values directly in the function call."
   ]
  },
  {
   "cell_type": "code",
   "execution_count": 13,
   "metadata": {},
   "outputs": [
    {
     "name": "stdout",
     "output_type": "stream",
     "text": [
      "The estimated insurance cost for this person is 5469.0 dollars.\n"
     ]
    }
   ],
   "source": [
    "maria_insurance_cost = calculate_insurance_cost(age = 28, sex = 0, bmi = 26.2, num_of_children = 3, smoker = 0)"
   ]
  },
  {
   "cell_type": "markdown",
   "metadata": {},
   "source": [
    "# 8.\n",
    "- Repeat steps 6-7 for Omar:\n",
    "\n",
    "- Rename insurance_cost as omar_insurance_cost and set it equal to the calculate_insurance_cost() function, passing in the appropriate values as arguments.\n",
    "- Remove the initial variables and print statement for Omar.\n",
    "- Notice how much cleaner our code is now! By utilizing a Python function, we were able to condense many lines of code into just a few."
   ]
  },
  {
   "cell_type": "code",
   "execution_count": 14,
   "metadata": {},
   "outputs": [
    {
     "name": "stdout",
     "output_type": "stream",
     "text": [
      "The estimated insurance cost for this person is 28336.0 dollars.\n"
     ]
    }
   ],
   "source": [
    "# Stage 2 variables for Omar\n",
    "\n",
    "age = 35\n",
    "sex = 1 \n",
    "bmi = 22.2\n",
    "num_of_children = 0\n",
    "smoker = 1\n",
    "\n",
    "#insurance_cost = 250*age - 128*sex + 370*bmi + 425*num_of_children + 24000*smoker - 12500\n",
    "#print(insurance_cost)\n",
    "\n",
    "omar_insurance_cost = calculate_insurance_cost(age = 35, sex = 1, bmi = 22.2, num_of_children = 0, smoker = 1)"
   ]
  },
  {
   "cell_type": "markdown",
   "metadata": {},
   "source": [
    "# 9. Adding new parameters\n",
    "\n",
    "- Click “Save” to see the estimated insurance costs for Maria and Omar as calculated by your function.\n",
    "\n",
    "- In the output terminal, notice that it says \"The estimated insurance cost for this person is...\" but it does not specify the actual name of the person.\n",
    "\n",
    "- To fix this, begin by adding an additional parameter called name to the function definition."
   ]
  },
  {
   "cell_type": "code",
   "execution_count": 17,
   "metadata": {},
   "outputs": [],
   "source": [
    "def calculate_insurance_cost(name, age, sex, bmi, num_of_children, smoker):\n",
    "    estimated_cost = 250*age - 128*sex + 370*bmi + 425*num_of_children + 24000*smoker - 12500\n",
    "    print(\"The estimated insurance cost for this person is \" + str(estimated_cost) + \" dollars.\")\n",
    "    return estimated_cost"
   ]
  },
  {
   "cell_type": "markdown",
   "metadata": {},
   "source": [
    "# 10.\n",
    "- Next, modify the print statement in the function so that it includes the new name parameter, replacing \"this person\" with the actual name of the person."
   ]
  },
  {
   "cell_type": "code",
   "execution_count": 20,
   "metadata": {},
   "outputs": [],
   "source": [
    "def calculate_insurance_cost(name, age, sex, bmi, num_of_children, smoker):\n",
    "    estimated_cost = 250*age - 128*sex + 370*bmi + 425*num_of_children + 24000*smoker - 12500\n",
    "    print(\"The estimated insurance cost for \" + name + \" is \" + str(estimated_cost) + \" dollars.\")\n",
    "    return estimated_cost"
   ]
  },
  {
   "cell_type": "markdown",
   "metadata": {},
   "source": [
    "# 11.\n",
    "\n",
    "- We must also update our function calls, passing in the name variable as an argument.\n",
    "\n",
    "- Update the function call for maria_insurance_cost, passing in name = \"Maria\" as an argument.\n",
    "\n",
    "- Do the same for Omar, passing in name = \"Omar\".\n",
    "\n",
    "- Now if you click “Save”, you’ll see that our function is able to write a more personalized message specifying the name of the individual it is estimating insurance costs for. Pretty neat, right?"
   ]
  },
  {
   "cell_type": "code",
   "execution_count": 21,
   "metadata": {},
   "outputs": [
    {
     "name": "stdout",
     "output_type": "stream",
     "text": [
      "The estimated insurance cost for Maria is 5469.0 dollars.\n"
     ]
    }
   ],
   "source": [
    "# Updated funcion call for Maria\n",
    "maria_insurance_cost = calculate_insurance_cost(name = \"Maria\", age = 28, sex = 0, bmi = 26.2, num_of_children = 3, smoker = 0)"
   ]
  },
  {
   "cell_type": "code",
   "execution_count": 22,
   "metadata": {},
   "outputs": [
    {
     "name": "stdout",
     "output_type": "stream",
     "text": [
      "The estimated insurance cost for Omar is 28336.0 dollars.\n"
     ]
    }
   ],
   "source": [
    "# Updated funcion call for Omar\n",
    "omar_insurance_cost = calculate_insurance_cost(name = \"Omar\", age = 35, sex = 1, bmi = 22.2, num_of_children = 0, smoker = 1)"
   ]
  },
  {
   "cell_type": "markdown",
   "metadata": {},
   "source": [
    "# 12. Estimating your own insurance cost\n",
    "\n",
    "- In this example, we calculated the insurance costs for two individuals, but with our new code we can easily extend this to thousands or even millions of individuals.\n",
    "\n",
    "- To illustrate, estimate your own insurance cost.\n",
    "\n",
    "- At the bottom of your code, create a new insurance_cost variable for yourself, similar to how we did it for Maria and Omar.\n",
    "\n",
    "- Set the variable equal to a function call to calculate_insurance_cost(), passing in your own name, age, sex, bmi, number of children, and smoker status.\n",
    "\n"
   ]
  },
  {
   "cell_type": "code",
   "execution_count": 23,
   "metadata": {},
   "outputs": [
    {
     "name": "stdout",
     "output_type": "stream",
     "text": [
      "The estimated insurance cost for Rolland is 2864.0 dollars.\n"
     ]
    }
   ],
   "source": [
    "# My insurance cost\n",
    "\n",
    "rolland_insurance_cost = calculate_insurance_cost(name = \"Rolland\", age = 30, sex = 1, bmi = 21.6, num_of_children = 0, smoker = 0)"
   ]
  },
  {
   "cell_type": "markdown",
   "metadata": {},
   "source": [
    "# 13. Extra\n",
    "\n",
    "- Congratulations! In this project, you created a useful function that calculates medical insurance costs based on the values passed into the function. Great job!\n",
    "\n",
    "- As a data scientist, you should always strive to make your code more clean and modular. Using functions to avoid repetitive code is a great way to do just that.\n",
    "\n",
    "- Now it’s your turn! If you’d like extra practice with Python functions, here are some suggestions to get you started:\n",
    "\n",
    "- Modify the calculate_insurance_cost() function so that it returns two values – the output message and the estimated cost.\n",
    "- Create a second function to calculate the difference between the insurance costs (given as inputs) of any two individuals and print a statement saying: \"The difference in insurance cost is xxx dollars.\"\n",
    "Happy coding!"
   ]
  },
  {
   "cell_type": "code",
   "execution_count": 46,
   "metadata": {},
   "outputs": [],
   "source": [
    "# Extra 1\n",
    "\n",
    "def calculate_insurance_cost(name, age, sex, bmi, num_of_children, smoker):\n",
    "    estimated_cost = 250*age - 128*sex + 370*bmi + 425*num_of_children + 24000*smoker - 12500\n",
    "    print(\"The following estimation is for \" + name)\n",
    "    print(\"The estimated insurance cost is \"+ str(estimated_cost) + \" dollars.\")\n",
    "    return estimated_cost"
   ]
  },
  {
   "cell_type": "code",
   "execution_count": 47,
   "metadata": {},
   "outputs": [
    {
     "name": "stdout",
     "output_type": "stream",
     "text": [
      "The following estimation is for Maria\n",
      "The estimated insurance cost is 5469.0 dollars.\n"
     ]
    }
   ],
   "source": [
    "# test Maria\n",
    "maria_insurance_cost = calculate_insurance_cost(name = \"Maria\", age = 28, sex = 0, bmi = 26.2, num_of_children = 3, smoker = 0)"
   ]
  },
  {
   "cell_type": "code",
   "execution_count": 58,
   "metadata": {},
   "outputs": [],
   "source": [
    "# Extra 2 difference in cost between 2 clients\n",
    "\n",
    "maria_insurance_cost = 5469\n",
    "omar_insurance_cost = 28336\n",
    "def diff_in_cost(omar_insurance_cost, maria_insurance_cost):\n",
    "    diff = omar_insurance_cost - maria_insurance_cost \n",
    "    #return diff\n",
    "    print(\"The difference in insurance cost is \" + str(diff) + \" dollars.\")\n",
    "   \n",
    "\n"
   ]
  },
  {
   "cell_type": "code",
   "execution_count": 59,
   "metadata": {},
   "outputs": [
    {
     "name": "stdout",
     "output_type": "stream",
     "text": [
      "The difference in insurance cost is 22867 dollars.\n"
     ]
    }
   ],
   "source": [
    "# test, add the 2 positional arguments inside ()\n",
    "diff_in_cost(omar_insurance_cost, maria_insurance_cost)"
   ]
  },
  {
   "cell_type": "code",
   "execution_count": null,
   "metadata": {},
   "outputs": [],
   "source": []
  }
 ],
 "metadata": {
  "kernelspec": {
   "display_name": "Python 3",
   "language": "python",
   "name": "python3"
  },
  "language_info": {
   "codemirror_mode": {
    "name": "ipython",
    "version": 3
   },
   "file_extension": ".py",
   "mimetype": "text/x-python",
   "name": "python",
   "nbconvert_exporter": "python",
   "pygments_lexer": "ipython3",
   "version": "3.7.6"
  }
 },
 "nbformat": 4,
 "nbformat_minor": 4
}
