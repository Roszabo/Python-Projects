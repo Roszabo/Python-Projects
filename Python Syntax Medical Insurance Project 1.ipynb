{
 "cells": [
  {
   "cell_type": "markdown",
   "metadata": {},
   "source": [
    "# Python Syntax: Medical Insurance Project"
   ]
  },
  {
   "cell_type": "markdown",
   "metadata": {},
   "source": [
    "- Suppose you are a medical professional curious about how certain factors contribute to medical insurance costs.\n",
    "- Using a formula that estimates a person’s yearly insurance costs, you will investigate how different factors such as age, sex, BMI, etc. affect the prediction."
   ]
  },
  {
   "cell_type": "markdown",
   "metadata": {},
   "source": [
    "Setting up Factors\n",
    "1.\n",
    "- Our first step is to create the variables for each factor we will consider when estimating medical insurance costs.\n",
    "\n",
    "- These are the variables we will need to create:\n",
    "\n",
    "- age: age of the individual in years\n",
    "- sex: 0 for female, 1 for male*\n",
    "- bmi: individual’s body mass index\n",
    "- num_of_children: number of children the individual has\n",
    "- smoker: 0 for a non-smoker, 1 for a smoker\n",
    "- At the top of script.py, create the following variables for a 28-year-old, nonsmoking woman who has three children and a BMI of 26.2.\n",
    "\n",
    "Note: We are using this medical insurance dataset as a guide, which unfortunately does not include data for non-binary individuals."
   ]
  },
  {
   "cell_type": "code",
   "execution_count": 1,
   "metadata": {},
   "outputs": [],
   "source": [
    "# create the initial variables below\n",
    "age = 28\n",
    "sex = 0\n",
    "bmi = 26.2\n",
    "num_of_children = 3\n",
    "smoker = 0"
   ]
  },
  {
   "cell_type": "markdown",
   "metadata": {},
   "source": [
    "Working with the Formula\n",
    "2.\n",
    "After the declaration of the variables, create a variable called insurance_cost that utilizes the following formula:\n",
    "\n",
    "\\begin{aligned} insurance\\_cost = 250*age - 128*sex \\\\ + 370*bmi + 425*num\\_of\\_children \\\\ + 24000*smoker - 12500 \\end{aligned} \n",
    "\n",
    "​\t"
   ]
  },
  {
   "cell_type": "code",
   "execution_count": 2,
   "metadata": {},
   "outputs": [],
   "source": [
    "# Add insurance estimate formula below\n",
    "insurance_cost = (250 * age - 128 * sex + 370 * bmi + 425 * num_of_children + 24000 * smoker - 12500)"
   ]
  },
  {
   "cell_type": "markdown",
   "metadata": {},
   "source": [
    "3.\n",
    "- Let’s display this value in an informative way. Print out the following string in the terminal:\n",
    "\n",
    "- This person's insurance cost is {insurance_cost} dollars.\n",
    "\n",
    "You will need to use string concatenation, including the str() function to print out the insurance_cost."
   ]
  },
  {
   "cell_type": "code",
   "execution_count": 3,
   "metadata": {},
   "outputs": [],
   "source": [
    "print(\"This person\\'s insurance cost is\",{insurance_cost}, \" dollars.\")"
   ]
  },
  {
   "cell_type": "markdown",
   "metadata": {},
   "source": [
    "Looking at Age Factor\n",
    "4.\n",
    "- We have seen how our formula can estimate costs for one individual. Now let’s play with some individual factors to see what role each one plays in our estimation!\n",
    "\n",
    "- Let’s start with the age factor. Using a plus-equal operator, add 4 years to our age variable."
   ]
  },
  {
   "cell_type": "code",
   "execution_count": 4,
   "metadata": {},
   "outputs": [],
   "source": [
    "# Age Factor\n",
    "age += 4"
   ]
  },
  {
   "cell_type": "markdown",
   "metadata": {},
   "source": [
    "5.\n",
    "- Now that we have changed our age value, we want to recalculate our insurance cost. Declare a new variable called new_insurance_cost underneath the expression that increased age by 4.\n",
    "\n",
    "- Make sure you leave the line with the insurance_cost variable the same. We will use it later in our program!"
   ]
  },
  {
   "cell_type": "code",
   "execution_count": 5,
   "metadata": {},
   "outputs": [],
   "source": [
    "new_insurance_cost = (250 * age + 4 - 128 * sex + 370 * bmi + 425 * num_of_children + 24000 * smoker - 12500)"
   ]
  },
  {
   "cell_type": "code",
   "execution_count": 6,
   "metadata": {},
   "outputs": [
    {
     "name": "stdout",
     "output_type": "stream",
     "text": [
      "This person's insurance cost is {6473.0}  dollars.\n"
     ]
    }
   ],
   "source": [
    "print(\"This person\\'s insurance cost is\",{new_insurance_cost}, \" dollars.\")"
   ]
  },
  {
   "cell_type": "markdown",
   "metadata": {},
   "source": [
    "6.\n",
    "- Next, we want to find the difference between our new_insurance_cost and insurance_cost. To do this, let’s create a new variable called change_in_insurance_cost and set it equal to the difference between new_insurance_cost and insurance_cost.\n",
    "\n",
    "Note: depending on the order that we subtract (eg., new_insurance_cost - insurance cost vs. insurance_cost - new_insurance_cost), we’ll get a positive or negative version of the same number. To make this difference interpretable, let’s calculate new_insurance_cost - insurance_cost. Then we can say, “people who are four years older have estimated insurance costs that are change_in_insurance_cost dollars different, where the sign of change_in_insurance_cost tells us whether the cost is higher or lower."
   ]
  },
  {
   "cell_type": "code",
   "execution_count": 7,
   "metadata": {},
   "outputs": [],
   "source": [
    "change_in_insurance_cost = new_insurance_cost - insurance_cost\n",
    "\n"
   ]
  },
  {
   "cell_type": "markdown",
   "metadata": {},
   "source": [
    "7.\n",
    "-We want to display this information in an informative way similar to the output from instruction 3. On the next line, print the following string in the terminal, where XXX is replaced by the value of change_in_insurance_cost:\n",
    "\n",
    "-The change in cost of insurance after increasing the age by 4 years is XXX dollars.\n",
    "Doing this will tell us how 4 years in age affects medical insurance cost estimates assuming that all other variables remain the same.\n",
    "\n",
    "-You will need to concatenate strings and use the str() method."
   ]
  },
  {
   "cell_type": "code",
   "execution_count": 8,
   "metadata": {},
   "outputs": [
    {
     "name": "stdout",
     "output_type": "stream",
     "text": [
      "The change in cost of insurance after increasing the age by 4 years is {1004.0} dollars.\n"
     ]
    }
   ],
   "source": [
    "print(\"The change in cost of insurance after increasing the age by 4 years is\", {change_in_insurance_cost},\"dollars.\" )"
   ]
  },
  {
   "cell_type": "markdown",
   "metadata": {},
   "source": [
    "Looking at BMI Factor\n",
    "8.\n",
    "- Now that you have looked at the age factor, let’s move onto another one: BMI. First, we have to redefine our age variable to be its original value.\n",
    "\n",
    "- Set age to 28 following your last piece of code. This will reset its value and allow us to focus on just the change in the BMI factor moving forward.\n",
    "\n",
    "- On the next line, using the plus-equal operator, add 3.1 to our bmi variable."
   ]
  },
  {
   "cell_type": "code",
   "execution_count": 9,
   "metadata": {},
   "outputs": [],
   "source": [
    "# BMI Factor\n",
    "age = 28\n",
    "bmi += 3.1"
   ]
  },
  {
   "cell_type": "markdown",
   "metadata": {},
   "source": [
    "9.\n",
    "- Now let’s find out how a change in BMI affects insurance costs. Our next steps are pretty much the same as we have done before when looking at age.\n",
    "\n",
    "- Below the line where bmi was increased by 3.1, rewrite the insurance cost formula and assign it to the variable name new_insurance_cost.\n"
   ]
  },
  {
   "cell_type": "code",
   "execution_count": 10,
   "metadata": {},
   "outputs": [],
   "source": [
    "new_insurance_cost = (250 * age - 128 * sex + 370 * bmi + 425 * num_of_children + 24000 * smoker - 12500)"
   ]
  },
  {
   "cell_type": "markdown",
   "metadata": {},
   "source": [
    "Save the difference between new_insurance_cost and insurance_cost in a variable called change_in_insurance_cost"
   ]
  },
  {
   "cell_type": "code",
   "execution_count": 11,
   "metadata": {},
   "outputs": [],
   "source": [
    "change_in_insurance_cost = new_insurance_cost - insurance_cost"
   ]
  },
  {
   "cell_type": "markdown",
   "metadata": {},
   "source": [
    "Display the following string in the output terminal, where XXX is replaced by the value of change_in_insurance_cost:\n",
    "\n",
    "The change in estimated insurance cost after increasing BMI by 3.1 is XXX dollars.\n",
    "You can leave the code above it as is, including the print statements."
   ]
  },
  {
   "cell_type": "code",
   "execution_count": 12,
   "metadata": {},
   "outputs": [
    {
     "name": "stdout",
     "output_type": "stream",
     "text": [
      "The change in estimated insurance cost after increasing BMI by 3.1 is {1147.0} dollars.\n"
     ]
    }
   ],
   "source": [
    "print(\"The change in estimated insurance cost after increasing BMI by 3.1 is\", {change_in_insurance_cost}, \"dollars.\")"
   ]
  },
  {
   "cell_type": "markdown",
   "metadata": {},
   "source": [
    "Looking at Male vs. Female Factor\n",
    "\n",
    "10.\n",
    "- Let’s look at the effect sex has on medical insurance costs. Before we make any additional changes, first reassign your bmi variable back to its original value of 26.2.\n",
    "\n",
    "- On a new line of code, reassign the value of sex to 1. A reminder that 1 identifies male individuals and 0 identifies female individuals."
   ]
  },
  {
   "cell_type": "code",
   "execution_count": 13,
   "metadata": {},
   "outputs": [],
   "source": [
    "# Male vs. Female Factor\n",
    "bmi = 26.2\n",
    "sex = 1"
   ]
  },
  {
   "cell_type": "markdown",
   "metadata": {},
   "source": [
    "\n",
    "Perform the steps below!\n",
    "\n",
    "1. Rewrite the insurance cost formula and assign it to the variable name new_insurance_cost.\n",
    "\n",
    "2. Save the difference between new_insurance_cost and insurance_cost in a variable called change_in_insurance_cost.\n",
    "\n",
    "3. Display the following string in the output terminal, where XXX is replaced by the value of change_in_insurance_cost:\n",
    "\n",
    "The change in estimated cost for being male instead of female is XXX dollars.\n",
    "\n"
   ]
  },
  {
   "cell_type": "code",
   "execution_count": 14,
   "metadata": {},
   "outputs": [
    {
     "name": "stdout",
     "output_type": "stream",
     "text": [
      "The change in estimated cost for being male instead of female is {-128.0} dollars.\n"
     ]
    }
   ],
   "source": [
    "new_insurance_cost = (250 * age - 128 * sex + 370 * bmi + 425 * num_of_children + 24000 * smoker - 12500)\n",
    "\n",
    "change_in_insurance_cost = new_insurance_cost - insurance_cost\n",
    "\n",
    "print(\"The change in estimated cost for being male instead of female is\",{change_in_insurance_cost}, \"dollars.\")"
   ]
  },
  {
   "cell_type": "markdown",
   "metadata": {},
   "source": [
    "12.\n",
    "- Notice that this time you got a negative value for change_in_insurance_cost. Let’s think about what this means. We changed the sex variable from 0 (female) to 1 (male) and it decreased the estimated insurance costs.\n",
    "\n",
    "- This means that men tend to have lower medical costs on average than women. Reflect on the other findings you have dug up from this investigation so far."
   ]
  },
  {
   "cell_type": "markdown",
   "metadata": {},
   "source": [
    "Extra Practice\n",
    "\n",
    "- So far we have looked at 3 of the 5 factors in the insurance costs formula. The two remaining are smoker and num_of_children. If you want to keep challenging yourself, spend some time investigating these factors!\n",
    "\n",
    "- Rewrite the insurance cost formula and assign it to the variable name new_insurance_cost.\n",
    "\n",
    "- Save the difference between new_insurance_cost and insurance_cost in a variable called change_in_insurance_cost"
   ]
  },
  {
   "cell_type": "code",
   "execution_count": 15,
   "metadata": {},
   "outputs": [
    {
     "name": "stdout",
     "output_type": "stream",
     "text": [
      "The change in estimated cost for being male & a smoker instead of a non-smoker is {23872.0} dollars.\n"
     ]
    }
   ],
   "source": [
    "# Extra Practice male smoker\n",
    "\n",
    "smoker = 1\n",
    "new_insurance_cost = (250 * age - 128 * sex + 370 * bmi + 425 * num_of_children + 24000 * smoker - 12500)\n",
    "\n",
    "change_in_insurance_cost = new_insurance_cost - insurance_cost\n",
    "\n",
    "print(\"The change in estimated cost for being male & a smoker instead of a non-smoker is\",{change_in_insurance_cost}, \"dollars.\")\n"
   ]
  },
  {
   "cell_type": "code",
   "execution_count": 16,
   "metadata": {},
   "outputs": [
    {
     "name": "stdout",
     "output_type": "stream",
     "text": [
      "The change in estimated cost for being female & a smoker instead of a non-smoker is {24000.0} dollars.\n"
     ]
    }
   ],
   "source": [
    "# Extra Practice female smoker\n",
    "\n",
    "sex = 0\n",
    "smoker = 1\n",
    "\n",
    "new_insurance_cost = (250 * age - 128 * sex + 370 * bmi + 425 * num_of_children + 24000 * smoker - 12500)\n",
    "\n",
    "change_in_insurance_cost = new_insurance_cost - insurance_cost\n",
    "\n",
    "print(\"The change in estimated cost for being female & a smoker instead of a non-smoker is\",{change_in_insurance_cost}, \"dollars.\")"
   ]
  },
  {
   "cell_type": "code",
   "execution_count": 17,
   "metadata": {},
   "outputs": [
    {
     "name": "stdout",
     "output_type": "stream",
     "text": [
      "The change in estimated cost for being a female non-smoker & have no children is {-1275.0} dollars.\n"
     ]
    }
   ],
   "source": [
    "# Extra Practice Female,  non-smoker no children\n",
    "num_of_children = 0\n",
    "smoker = 0\n",
    "\n",
    "new_insurance_cost = (250 * age - 128 * sex + 370 * bmi + 425 * num_of_children + 24000 * smoker - 12500)\n",
    "\n",
    "\n",
    "change_in_insurance_cost = new_insurance_cost - insurance_cost\n",
    "\n",
    "print(\"The change in estimated cost for being a female non-smoker & have no children is\",{change_in_insurance_cost}, \"dollars.\")"
   ]
  },
  {
   "cell_type": "code",
   "execution_count": 18,
   "metadata": {},
   "outputs": [
    {
     "name": "stdout",
     "output_type": "stream",
     "text": [
      "5469.0\n"
     ]
    }
   ],
   "source": [
    "print(insurance_cost)"
   ]
  },
  {
   "cell_type": "code",
   "execution_count": 19,
   "metadata": {},
   "outputs": [
    {
     "name": "stdout",
     "output_type": "stream",
     "text": [
      "4194.0\n"
     ]
    }
   ],
   "source": [
    "print(new_insurance_cost)"
   ]
  },
  {
   "cell_type": "code",
   "execution_count": null,
   "metadata": {},
   "outputs": [],
   "source": []
  }
 ],
 "metadata": {
  "kernelspec": {
   "display_name": "Python 3",
   "language": "python",
   "name": "python3"
  },
  "language_info": {
   "codemirror_mode": {
    "name": "ipython",
    "version": 3
   },
   "file_extension": ".py",
   "mimetype": "text/x-python",
   "name": "python",
   "nbconvert_exporter": "python",
   "pygments_lexer": "ipython3",
   "version": "3.7.6"
  }
 },
 "nbformat": 4,
 "nbformat_minor": 4
}
